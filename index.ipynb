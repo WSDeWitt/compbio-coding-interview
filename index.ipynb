{
 "cells": [
  {
   "cell_type": "markdown",
   "metadata": {
    "slideshow": {
     "slide_type": "slide"
    }
   },
   "source": [
    "Fun with comp bio coding interviews\n",
    "====\n",
    "\n",
    "William DeWitt  \n",
    "UW Genome Sciences 2nd year  \n",
    "Matsen/Harris labs"
   ]
  },
  {
   "cell_type": "markdown",
   "metadata": {
    "slideshow": {
     "slide_type": "slide"
    }
   },
   "source": [
    "Overview\n",
    "----"
   ]
  },
  {
   "cell_type": "markdown",
   "metadata": {
    "slideshow": {
     "slide_type": "fragment"
    }
   },
   "source": [
    "- I'll go through a few coding problems of the style one might encounter in a computational biology coding interview."
   ]
  },
  {
   "cell_type": "markdown",
   "metadata": {
    "slideshow": {
     "slide_type": "fragment"
    }
   },
   "source": [
    "- There a few programming concepts that often come up in coding interviews."
   ]
  },
  {
   "cell_type": "markdown",
   "metadata": {
    "slideshow": {
     "slide_type": "fragment"
    }
   },
   "source": [
    "- This isn't meant to be comprehensive, and is biased toward my experiences."
   ]
  },
  {
   "cell_type": "markdown",
   "metadata": {
    "slideshow": {
     "slide_type": "fragment"
    }
   },
   "source": [
    "- We'll be working in Python 3! 🐍"
   ]
  },
  {
   "cell_type": "markdown",
   "metadata": {
    "slideshow": {
     "slide_type": "slide"
    }
   },
   "source": [
    "Problem 1: DNA $\\boldsymbol{k}$-mers\n",
    "----\n",
    "Write a function that takes an integer argument $k$ and returns all DNA sequences of length $k$."
   ]
  },
  {
   "cell_type": "markdown",
   "metadata": {
    "slideshow": {
     "slide_type": "slide"
    }
   },
   "source": [
    "### Case $\\boldsymbol{k=2}$\n",
    "We can simply loop over the possible letters (bases) in each position:"
   ]
  },
  {
   "cell_type": "code",
   "execution_count": 1,
   "metadata": {
    "slideshow": {
     "slide_type": "fragment"
    }
   },
   "outputs": [],
   "source": [
    "def twomers():\n",
    "    bases = 'ACGT'\n",
    "    kmer_list = []\n",
    "    for base1 in bases:\n",
    "        for base2 in bases:\n",
    "            kmer_list.append(base1 + base2)\n",
    "    return kmer_list"
   ]
  },
  {
   "cell_type": "code",
   "execution_count": 2,
   "metadata": {
    "slideshow": {
     "slide_type": "slide"
    }
   },
   "outputs": [
    {
     "data": {
      "text/plain": [
       "['AA',\n",
       " 'AC',\n",
       " 'AG',\n",
       " 'AT',\n",
       " 'CA',\n",
       " 'CC',\n",
       " 'CG',\n",
       " 'CT',\n",
       " 'GA',\n",
       " 'GC',\n",
       " 'GG',\n",
       " 'GT',\n",
       " 'TA',\n",
       " 'TC',\n",
       " 'TG',\n",
       " 'TT']"
      ]
     },
     "execution_count": 2,
     "metadata": {},
     "output_type": "execute_result"
    }
   ],
   "source": [
    "twomers()"
   ]
  },
  {
   "cell_type": "markdown",
   "metadata": {
    "slideshow": {
     "slide_type": "fragment"
    }
   },
   "source": [
    "Ok cool, but:\n",
    "- Can we generalize this to arbitrary $k$?\n",
    "- One problem seems to be the nested loop.\n",
    "- If we don't know $k$ in advance, we don't know how many nested levels of loops to code.\n",
    "- Does this suggest a particular programming paradigm?"
   ]
  },
  {
   "cell_type": "markdown",
   "metadata": {
    "collapsed": true,
    "slideshow": {
     "slide_type": "slide"
    }
   },
   "source": [
    "### General case\n",
    "**Observation:** if we had the list of all $(k-1)$-mers, we could generate all the $k$-mers by adding each of the possible 4 bases—`A`, `C`, `G`, and `T`—to each of the $(k-1)$-mers."
   ]
  },
  {
   "cell_type": "markdown",
   "metadata": {
    "slideshow": {
     "slide_type": "fragment"
    }
   },
   "source": [
    "**Recursion!**"
   ]
  },
  {
   "cell_type": "code",
   "execution_count": 3,
   "metadata": {
    "slideshow": {
     "slide_type": "fragment"
    }
   },
   "outputs": [],
   "source": [
    "def kmers(k:int):\n",
    "    assert k > 0, 'k must be a positive integer '\n",
    "    bases = 'ACGT'\n",
    "    # the base case\n",
    "    if k == 1:\n",
    "        kmer_list = list(bases)\n",
    "    # here we'll add each base to the (k - 1)-mers\n",
    "    else:\n",
    "        kmer_list = []\n",
    "        for km1mer in kmers(k - 1):\n",
    "            for base in bases:\n",
    "                kmer_list.append(km1mer + base)\n",
    "    return kmer_list"
   ]
  },
  {
   "cell_type": "markdown",
   "metadata": {
    "slideshow": {
     "slide_type": "slide"
    }
   },
   "source": [
    "Does it match `twomers()` for $k=2$?"
   ]
  },
  {
   "cell_type": "code",
   "execution_count": 4,
   "metadata": {
    "slideshow": {
     "slide_type": "fragment"
    }
   },
   "outputs": [
    {
     "data": {
      "text/plain": [
       "True"
      ]
     },
     "execution_count": 4,
     "metadata": {},
     "output_type": "execute_result"
    }
   ],
   "source": [
    "kmers(2) == twomers()"
   ]
  },
  {
   "cell_type": "markdown",
   "metadata": {
    "slideshow": {
     "slide_type": "fragment"
    }
   },
   "source": [
    "To validate for a larger $k$, say $k=10$, check that the returned list has length $4^k$:"
   ]
  },
  {
   "cell_type": "code",
   "execution_count": 5,
   "metadata": {
    "slideshow": {
     "slide_type": "fragment"
    }
   },
   "outputs": [
    {
     "data": {
      "text/plain": [
       "True"
      ]
     },
     "execution_count": 5,
     "metadata": {},
     "output_type": "execute_result"
    }
   ],
   "source": [
    "len(kmers(10)) == 4**10"
   ]
  },
  {
   "cell_type": "markdown",
   "metadata": {
    "slideshow": {
     "slide_type": "slide"
    }
   },
   "source": [
    "**Exercise:** Suppose you are told the call stack is limited.\n",
    "Can you think of an efficient implementation that doesn't rely on recursion?"
   ]
  },
  {
   "cell_type": "markdown",
   "metadata": {
    "slideshow": {
     "slide_type": "slide"
    }
   },
   "source": [
    "Problem 2: submatrix summation\n",
    "----\n",
    "Write a function that takes a rectangular array of numbers $\\mathbf{A}$ and returns an array $\\mathbf{B}$ of the same dimensions such that\n",
    "$$B_{i j} = \\sum_{k\\le i}\\sum_{l\\le j}A_{k l}.$$\n",
    "In other words, the sum of the submatrix of $\\mathbf{A}$ above and to the left of position $(i,j)$, inclusive.\n",
    "No `numpy` not allowed!"
   ]
  },
  {
   "cell_type": "markdown",
   "metadata": {
    "slideshow": {
     "slide_type": "slide"
    }
   },
   "source": [
    "### Naive solution\n",
    "Step through and perform sums for each element"
   ]
  },
  {
   "cell_type": "code",
   "execution_count": 6,
   "metadata": {
    "slideshow": {
     "slide_type": "fragment"
    }
   },
   "outputs": [],
   "source": [
    "from typing import List\n",
    "def submatrix_sum_naive(A:List[List[float]]):\n",
    "    '''assume input is a rectangular list of lists of floats'''\n",
    "    # initialize to A, just to get the right shape\n",
    "    B = [row.copy() for row in A]\n",
    "    # loop through and compute the sum for each element\n",
    "    for i in range(len(A)):\n",
    "        for j in range(len(A[i])):\n",
    "            B[i][j] = sum(A[k][l] for k in range(i + 1) for l in range(j + 1))\n",
    "    return B"
   ]
  },
  {
   "cell_type": "code",
   "execution_count": 7,
   "metadata": {
    "slideshow": {
     "slide_type": "slide"
    }
   },
   "outputs": [
    {
     "data": {
      "text/plain": [
       "[[1, 3, 6], [5, 12, 21]]"
      ]
     },
     "execution_count": 7,
     "metadata": {},
     "output_type": "execute_result"
    }
   ],
   "source": [
    "A = [[1, 2, 3],\n",
    "     [4, 5, 6]]\n",
    "submatrix_sum_naive(A)"
   ]
  },
  {
   "cell_type": "markdown",
   "metadata": {
    "slideshow": {
     "slide_type": "fragment"
    }
   },
   "source": [
    "Ok that looks right, but:\n",
    "- is this a reasonable approach if $\\mathbf{A}$ is really big?\n",
    "- We're repeating a lot of computations—can we avoid that?"
   ]
  },
  {
   "cell_type": "markdown",
   "metadata": {
    "slideshow": {
     "slide_type": "slide"
    }
   },
   "source": [
    "### Less naive solution\n",
    "**Observation:** The submatrix of $\\mathbf{A}$ that we need to sum is pretty similar if the elements of $\\mathbf{B}$ are neighbors—we just need to add a sub-row and/or or a sub-column sum to the value of the neighbor.\n",
    "\n",
    "*whiteboard some rectangles*"
   ]
  },
  {
   "cell_type": "markdown",
   "metadata": {
    "slideshow": {
     "slide_type": "fragment"
    }
   },
   "source": [
    "**Dynamic programming!**\n",
    "$$\n",
    "B_{i j} = A_{i j} + B_{i-1,j} + B_{i,j-1} - B_{i-1,j-1}\n",
    "$$"
   ]
  },
  {
   "cell_type": "code",
   "execution_count": 8,
   "metadata": {
    "slideshow": {
     "slide_type": "fragment"
    }
   },
   "outputs": [],
   "source": [
    "def submatrix_sum(A:List[List[float]]):\n",
    "    # initialize to A, just to get the right shape\n",
    "    B = [row.copy() for row in A]\n",
    "    for i in range(len(A)):\n",
    "        for j in range(len(A[i])):\n",
    "            B[i][j] = A[i][j]\n",
    "            if i > 0:\n",
    "                B[i][j] += B[i - 1][j]\n",
    "            if j > 0:\n",
    "                B[i][j] += B[i][j - 1]\n",
    "            if i > 0 and j > 0:\n",
    "                B[i][j] -= B[i - 1][j - 1]\n",
    "    return B"
   ]
  },
  {
   "cell_type": "markdown",
   "metadata": {
    "slideshow": {
     "slide_type": "slide"
    }
   },
   "source": [
    "Does this match our naive implementation?"
   ]
  },
  {
   "cell_type": "code",
   "execution_count": 9,
   "metadata": {
    "slideshow": {
     "slide_type": "fragment"
    }
   },
   "outputs": [
    {
     "data": {
      "text/plain": [
       "True"
      ]
     },
     "execution_count": 9,
     "metadata": {},
     "output_type": "execute_result"
    }
   ],
   "source": [
    "submatrix_sum(A) == submatrix_sum_naive(A)"
   ]
  },
  {
   "cell_type": "markdown",
   "metadata": {
    "slideshow": {
     "slide_type": "fragment"
    }
   },
   "source": [
    "Is it faster for a big matrix?"
   ]
  },
  {
   "cell_type": "code",
   "execution_count": 10,
   "metadata": {
    "slideshow": {
     "slide_type": "fragment"
    }
   },
   "outputs": [
    {
     "name": "stdout",
     "output_type": "stream",
     "text": [
      "naive implementation: 2.5 seconds\n",
      "dynamic programming implementation: 0.00599 seconds\n"
     ]
    }
   ],
   "source": [
    "# make a 100x100 array of random numbers\n",
    "from random import random\n",
    "A = [[random() for _ in range(100)] for _ in range(100)]\n",
    "from time import time\n",
    "tic = time()\n",
    "B_naive = submatrix_sum_naive(A)\n",
    "toc = time()\n",
    "print('naive implementation: {:.3} seconds'.format(toc - tic))\n",
    "tic = time()\n",
    "B_dynamic = submatrix_sum(A)\n",
    "toc = time()\n",
    "print('dynamic programming implementation: {:.3} seconds'.format(toc - tic))"
   ]
  },
  {
   "cell_type": "markdown",
   "metadata": {
    "slideshow": {
     "slide_type": "slide"
    }
   },
   "source": [
    "### Exercise\n",
    "What if the elements of $\\mathbf{B}$ are the sum of squares of the elements of the submatrix of $\\mathbf{A}$? What if it's the 2-norm?"
   ]
  },
  {
   "cell_type": "markdown",
   "metadata": {
    "slideshow": {
     "slide_type": "slide"
    }
   },
   "source": [
    "Problem 3: half pills\n",
    "----\n",
    ">You have a prescription to take one half of a pill per day for 20 days but the pharmacist (who is too busy to divide pills for you) gives you 10 whole pills in a bottle.\n",
    "On day 1, you remove a pill from the bottle, break it into two half pills, take one, and return the other half pill to the bottle.\n",
    "On all subsequent days you shake the bottle thoroughly and pour something out whatever comes out first - either a half pill or a whole pill; if it' s a half pill you take it and you're done for that day; if it's a whole pill, you split it into two half-pills, take one, and put the other back in the bottle, exactly like you did on day 1.\n",
    "On day 20 there can be only one half pill left in the bottle, but on day 19 there are two possibilities: either there is one whole pill or there are two half-pills left in the bottle.\n",
    "What is the probability that there are two half-pills in the bottle on day 19?\n",
    "\n",
    "*http://www.feynmanlectures.caltech.edu/info/exercises/half_pills.html*\n",
    "\n",
    "click $\\downarrow$ for solution"
   ]
  },
  {
   "cell_type": "markdown",
   "metadata": {
    "slideshow": {
     "slide_type": "slide"
    }
   },
   "source": [
    "### Naive solution\n",
    "- We can simulate the 19 days many times and simply count the outcomes as an estimate of the probability.\n",
    "- We can denote the state of the bottle with the pair of integers $(w,h)$ indicating the number of whole and half pills it contains.\n",
    "- The probabilities of drawing a whole pill or half pill is $\\frac{w}{w+h}$, and $\\frac{h}{w+h}$, repectively."
   ]
  },
  {
   "cell_type": "code",
   "execution_count": 11,
   "metadata": {
    "slideshow": {
     "slide_type": "fragment"
    }
   },
   "outputs": [],
   "source": [
    "def pill_sim(w:int, h:int, d:int):\n",
    "    '''The bottle starts with w whole pills and h half pills and we simulate for d days'''\n",
    "    for _ in range(d):\n",
    "        # Bernoulli draw a whole pill or half pill\n",
    "        if random() < w / (w + h):\n",
    "            w -= 1\n",
    "            h += 1\n",
    "        else:\n",
    "            h -= 1\n",
    "    return (w, h)"
   ]
  },
  {
   "cell_type": "code",
   "execution_count": 12,
   "metadata": {
    "slideshow": {
     "slide_type": "slide"
    }
   },
   "outputs": [
    {
     "name": "stdout",
     "output_type": "stream",
     "text": [
      "simulation estimate: 0.761, 0.33 seconds\n"
     ]
    },
    {
     "data": {
      "image/png": "[encoded data removed]",
      "text/plain": [
       "<Figure size 432x288 with 1 Axes>"
      ]
     },
     "metadata": {
      "needs_background": "light"
     },
     "output_type": "display_data"
    }
   ],
   "source": [
    "# count the fraction of times in 100,000 trials that the bottle has two half pills on day 19\n",
    "import numpy as np\n",
    "%matplotlib inline\n",
    "from matplotlib import pyplot as plt\n",
    "trials = 100000\n",
    "tic = time()\n",
    "estimates = np.cumsum([int(pill_sim(10, 0, 18) == (0, 2)) for trial in range(trials)]) / np.arange(1, trials + 1)\n",
    "toc = time()\n",
    "print('simulation estimate: {:.3}, {:.3} seconds'.format(estimates[-1], toc - tic))\n",
    "plt.plot(estimates)\n",
    "plt.xscale('log')\n",
    "plt.show()"
   ]
  },
  {
   "cell_type": "markdown",
   "metadata": {
    "slideshow": {
     "slide_type": "slide"
    }
   },
   "source": [
    "Ok that seems reasonable but:\n",
    "- Will this simulation approach work if the number of starting pills is very large?\n",
    "- What if we pick a different state with much lower probability?\n",
    "- Can we compute the probability exactly?"
   ]
  },
  {
   "cell_type": "markdown",
   "metadata": {
    "slideshow": {
     "slide_type": "slide"
    }
   },
   "source": [
    "### Less naive solution\n",
    "\n",
    "*whiteboard the state space*\n",
    "\n",
    "**Observations:**\n",
    "- If the bottle is in state $(w,h)$, the next draw can only bring it to neighboring states $(w - 1,h + 1)$ or $(w, h - 1)$, with probabilities $\\frac{w}{w+h}$, and $\\frac{h}{w+h}$, repectively.\n",
    "- There's no way to cycle in the state space\n",
    "- The probability of hitting a state $(w,h)$ is the sum over all paths to that state, and each path is the product of the probabilities of each step."
   ]
  },
  {
   "cell_type": "markdown",
   "metadata": {
    "slideshow": {
     "slide_type": "fragment"
    }
   },
   "source": [
    "**Dynamic programming!**"
   ]
  },
  {
   "cell_type": "code",
   "execution_count": 13,
   "metadata": {
    "slideshow": {
     "slide_type": "slide"
    }
   },
   "outputs": [],
   "source": [
    "from functools import lru_cache\n",
    "@lru_cache(maxsize=None) # <-- this value caching is essential\n",
    "def pill_prob(w, h, w0, h0):\n",
    "    '''the probability of hitting state (w, h) given the bottle starts in state (w0, h0)'''\n",
    "    # initial state base case\n",
    "    if w == w0 and h == h0:\n",
    "        return 1\n",
    "    # final state base case\n",
    "    elif w == 0 and h == 0:\n",
    "        return 1\n",
    "    # recursion\n",
    "    else:\n",
    "        # path 1: enter this state from the state (w + 1, h - 1) by drawing a whole pill\n",
    "        if h > 0 and w < w0:\n",
    "            path1_prob = ((w + 1) / (w + h)) * pill_prob(w + 1, h - 1, w0, h0)\n",
    "        else:\n",
    "            path1_prob = 0\n",
    "        # path 2: enter this state from the state (w, h + 1) by drawing a half pill\n",
    "        if h < w0:\n",
    "            path2_prob = ((h + 1) / (w + h + 1)) * pill_prob(w, h + 1, w0, h0)\n",
    "        else:\n",
    "            path2_prob = 0\n",
    "        return path1_prob + path2_prob"
   ]
  },
  {
   "cell_type": "code",
   "execution_count": 14,
   "metadata": {
    "slideshow": {
     "slide_type": "slide"
    }
   },
   "outputs": [
    {
     "name": "stdout",
     "output_type": "stream",
     "text": [
      "dynamic programming solution: 0.761, 0.000279 seconds\n"
     ]
    }
   ],
   "source": [
    "tic = time()\n",
    "prob_dyn = pill_prob(0, 2, 10, 0)\n",
    "toc = time()\n",
    "print('dynamic programming solution: {:.3}, {:.3} seconds'.format(prob_dyn, toc - tic))"
   ]
  },
  {
   "cell_type": "markdown",
   "metadata": {
    "slideshow": {
     "slide_type": "slide"
    }
   },
   "source": [
    "### Exercise\n",
    "How can we solve this exactly with Markov chain theory?"
   ]
  },
  {
   "cell_type": "markdown",
   "metadata": {
    "slideshow": {
     "slide_type": "slide"
    }
   },
   "source": [
    "# Thanks!\n",
    "\n",
    "These slides can be accessed at https://wsdewitt.github.io/compbio-coding-interview"
   ]
  }
 ],
 "metadata": {
  "celltoolbar": "Slideshow",
  "kernelspec": {
   "display_name": "Python 3",
   "language": "python",
   "name": "python3"
  },
  "language_info": {
   "codemirror_mode": {
    "name": "ipython",
    "version": 3
   },
   "file_extension": ".py",
   "mimetype": "text/x-python",
   "name": "python",
   "nbconvert_exporter": "python",
   "pygments_lexer": "ipython3",
   "version": "3.7.3"
  }
 },
 "nbformat": 4,
 "nbformat_minor": 2
}
